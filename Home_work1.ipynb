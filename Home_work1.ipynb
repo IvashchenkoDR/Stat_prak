{
  "nbformat": 4,
  "nbformat_minor": 0,
  "metadata": {
    "colab": {
      "provenance": [],
      "authorship_tag": "ABX9TyOs2RNJPaWDDtCLfnXyASyO",
      "include_colab_link": true
    },
    "kernelspec": {
      "name": "python3",
      "display_name": "Python 3"
    },
    "language_info": {
      "name": "python"
    }
  },
  "cells": [
    {
      "cell_type": "markdown",
      "metadata": {
        "id": "view-in-github",
        "colab_type": "text"
      },
      "source": [
        "<a href=\"https://colab.research.google.com/github/IvashchenkoDR/Stat_prak/blob/main/Home_work1.ipynb\" target=\"_parent\"><img src=\"https://colab.research.google.com/assets/colab-badge.svg\" alt=\"Open In Colab\"/></a>"
      ]
    },
    {
      "cell_type": "code",
      "source": [
        "from math import sqrt"
      ],
      "metadata": {
        "id": "QTKoImFgYom6"
      },
      "execution_count": 2,
      "outputs": []
    },
    {
      "cell_type": "markdown",
      "source": [
        "# Задача 1\n"
      ],
      "metadata": {
        "id": "ARtrvMjU85pj"
      }
    },
    {
      "cell_type": "markdown",
      "source": [
        "Make a tuple containing natural numbers, the square of which is a multiple of 3, 4, but not a multiple of 8 and not exceeding 12345"
      ],
      "metadata": {
        "id": "s4FZWs0Y9Npg"
      }
    },
    {
      "cell_type": "code",
      "execution_count": 3,
      "metadata": {
        "colab": {
          "base_uri": "https://localhost:8080/"
        },
        "id": "BvDVfsIaqM-h",
        "outputId": "0aad59fd-1dfd-4e02-e65f-2773ed695cd7"
      },
      "outputs": [
        {
          "output_type": "stream",
          "name": "stdout",
          "text": [
            "(6, 18, 30, 42, 54, 66, 78, 90, 102)\n"
          ]
        }
      ],
      "source": [
        "#Формируем кортеж\n",
        "tup = tuple([n for n in range(int(sqrt(12346))) if n % 2 == 0 and n % 3 == 0 and n ** 2 % 8 != 0])\n",
        "print(tup)"
      ]
    },
    {
      "cell_type": "markdown",
      "source": [
        "# Задача 2"
      ],
      "metadata": {
        "id": "iuJ_M8slEv35"
      }
    },
    {
      "cell_type": "markdown",
      "source": [
        "Write a function that takes a two-dimensional array and a string as input and returns an array rotated 90 degrees counterclockwise if the string 'left' was passed, and clockwise if the string 'right' was passed.\n",
        "\n",
        "Example for input: $\\begin{bmatrix} 1 & 2 & 3 \\\\ 4 & 5 & 6 \\\\ 7 & 8 & 9 \\end{bmatrix}$.\\\n",
        "If the string 'left' is passed, the function should return $\\begin{bmatrix} 3 & 6 & 9 \\\\ 2 & 5 & 8 \\\\ 1 & 4 & 7 \\end{bmatrix}$, and if the string 'right' is passed, the function should return $\\begin{bmatrix} 7 & 4 & 1 \\\\ 8 & 5 & 2 \\\\ 9 & 6 & 3 \\end{bmatrix}$."
      ],
      "metadata": {
        "id": "vlsS9h1RLH0U"
      }
    },
    {
      "cell_type": "markdown",
      "source": [
        "Напишем функцию, которая будет поворачивать матрицу направо или налево."
      ],
      "metadata": {
        "id": "utVE_m1w5rRc"
      }
    },
    {
      "cell_type": "code",
      "source": [
        "def turn(matrix, word):\n",
        "  if word == 'right': return [list(row) for row in zip(*matrix[::-1])]\n",
        "  elif word == 'left': return [list(row) for row in zip(*matrix)][::-1]"
      ],
      "metadata": {
        "id": "rZAFqxI-EHhV"
      },
      "execution_count": 10,
      "outputs": []
    },
    {
      "cell_type": "markdown",
      "source": [
        "Проверим, что будет результатом вызова функции\n"
      ],
      "metadata": {
        "id": "VyhP0HaBO5pg"
      }
    },
    {
      "cell_type": "code",
      "source": [
        "matrix = [[1, 2, 3], [4, 5, 6], [7, 8, 9]]\n",
        "print(turn(matrix, 'right'))\n",
        "print(turn(matrix, 'left'))"
      ],
      "metadata": {
        "colab": {
          "base_uri": "https://localhost:8080/"
        },
        "id": "QzkuWemhPC39",
        "outputId": "10fd6ede-5537-4300-e5b2-5178a365bc29"
      },
      "execution_count": 11,
      "outputs": [
        {
          "output_type": "stream",
          "name": "stdout",
          "text": [
            "[[7, 4, 1], [8, 5, 2], [9, 6, 3]]\n",
            "[[3, 6, 9], [2, 5, 8], [1, 4, 7]]\n"
          ]
        }
      ]
    },
    {
      "cell_type": "markdown",
      "source": [],
      "metadata": {
        "id": "FuS3gOQ6BqaR"
      }
    },
    {
      "cell_type": "markdown",
      "source": [
        "#Задача 3\n",
        "\n"
      ],
      "metadata": {
        "id": "0iSZ2I9TBtA5"
      }
    },
    {
      "cell_type": "markdown",
      "source": [
        "Write a function that takes a string as input and returns a dictionary containing the number of occurrences of each character in the string.\n",
        "\n",
        "Example for the string 'hello, world!': {'h': 1, 'e': 1, 'l': 3, 'o': 2, ',': 1, ' ': 1, 'w': 1, 'r': 1, 'd': 1, '!': 1}."
      ],
      "metadata": {
        "id": "gDRpTPgbByhL"
      }
    },
    {
      "cell_type": "markdown",
      "source": [
        "Напишем функцию которая будет создавать словарь по строке:"
      ],
      "metadata": {
        "id": "tfl2AUiqCmvL"
      }
    },
    {
      "cell_type": "code",
      "source": [
        "def make_dict(phrase):\n",
        "  return {simbol : phrase.count(simbol) for simbol in phrase}"
      ],
      "metadata": {
        "id": "UxPsbk6tB_HI"
      },
      "execution_count": 16,
      "outputs": []
    },
    {
      "cell_type": "markdown",
      "source": [
        "Проверим работу функции на данном примере:"
      ],
      "metadata": {
        "id": "98aeBuq8D65Y"
      }
    },
    {
      "cell_type": "code",
      "source": [
        "print(make_dict('Hello world!'))"
      ],
      "metadata": {
        "colab": {
          "base_uri": "https://localhost:8080/"
        },
        "id": "rxoZw4r0EDgM",
        "outputId": "7fa9c4ba-663d-467f-ebef-8e3ebc058bf4"
      },
      "execution_count": 17,
      "outputs": [
        {
          "output_type": "stream",
          "name": "stdout",
          "text": [
            "{'H': 1, 'e': 1, 'l': 3, 'o': 2, ' ': 1, 'w': 1, 'r': 1, 'd': 1, '!': 1}\n"
          ]
        }
      ]
    },
    {
      "cell_type": "markdown",
      "source": [
        "#Задача 4"
      ],
      "metadata": {
        "id": "e2dF1onhE1WM"
      }
    },
    {
      "cell_type": "markdown",
      "source": [
        "### Implementing a Library Management System\n",
        "\n",
        "#### Description\n",
        "\n",
        "You are required to design and implement a system for managing books and users in a library. The system should allow for the management of books (adding, deleting, searching by various criteria) and users (registration, deletion, searching), as well as tracking the history of interactions between them (issuing and returning books).\n",
        "\n",
        "#### Tasks\n",
        "\n",
        "1. **`Book` Class**:\n",
        "   - Attributes: title, author, year of publication, ISBN, number of copies.\n",
        "   - Methods: constructor, methods to get information about the book, method to change the number of copies (when issuing and returning books).\n",
        "\n",
        "2. **`User` Class**:\n",
        "   - Attributes: user name, library card number, list of borrowed books.\n",
        "   - Methods: constructor, methods for user registration, methods for adding and removing books from the borrowed list.\n",
        "\n",
        "3. **`Library` Class**:\n",
        "   - Attributes: list of books, list of users, transaction history (who, when, which book was borrowed and returned).\n",
        "   - Methods: constructor, methods for adding and deleting books and users, methods for issuing and returning books, searching for books and users by various criteria, method to display the transaction history.\n",
        "\n",
        "#### Assignment\n",
        "\n",
        "1. Implement the `Book`, `User`, and `Library` classes with the specified attributes and methods.\n",
        "2. Create several books and users, and add them to the library system.\n",
        "3. Implement scenarios for issuing books to users and their return.\n",
        "4. Display the transaction history to show how books were issued and returned."
      ],
      "metadata": {
        "id": "_-OW7VBhE4si"
      }
    },
    {
      "cell_type": "markdown",
      "source": [
        "Создадим необходимые классы:"
      ],
      "metadata": {
        "id": "UqKKbgi6GhDA"
      }
    },
    {
      "cell_type": "code",
      "source": [
        "class Book:\n",
        "  def __init__(self, name, author, year, ISBN, quantity):\n",
        "    self.name = name\n",
        "    self.author = author\n",
        "    self.year = year\n",
        "    self.ISBN = ISBN\n",
        "    self.quantity = quantity\n",
        "\n",
        "  def info(self):\n",
        "    print(f'\"{self.name}\" was written in {self.year} year by {self.author}\\nISBN: {self.ISBN}\\nQuantity: {self.quantity}')\n",
        "\n",
        "  def took(self):\n",
        "    if self.quantity > 0:\n",
        "      self.quantity -= 1\n",
        "\n",
        "  def returned(self):\n",
        "    self.quantity += 1"
      ],
      "metadata": {
        "id": "6WuxkvjyGlnK"
      },
      "execution_count": 1,
      "outputs": []
    },
    {
      "cell_type": "code",
      "source": [
        "class User:\n",
        "  def __init__(self, name, ticket_num):\n",
        "    self.name = name\n",
        "    self.ticket_num = ticket_num\n",
        "    self.books_on_hands = []\n",
        "\n",
        "  def took(self, book):\n",
        "    if book not in self.books_on_hands:\n",
        "      self.books_on_hands.append(book)\n",
        "      print(f'{self.name} took {book.name}')\n",
        "      return\n",
        "    print(f'{self.name} has {book.name}')\n",
        "\n",
        "  def returned(self, book):\n",
        "    if book in self.books_on_hands:\n",
        "      self.books_on_hands.remove(book)\n",
        "      print(f'{self.name} returned {book.name}')\n",
        "      return\n",
        "    print(f'{self.name} didnt took {book.name}!')"
      ],
      "metadata": {
        "id": "FdAIbq39MIwo"
      },
      "execution_count": 2,
      "outputs": []
    },
    {
      "cell_type": "code",
      "source": [
        "class Library:\n",
        "  def __init__(self):\n",
        "    self.books = []\n",
        "    self.users = []\n",
        "    self.trans = []\n",
        "    print(f'Library is created!')\n",
        "\n",
        "  def add_book(self, book):\n",
        "    if book not in self.books:\n",
        "      self.books.append(book)\n",
        "      print(f'Book {book.name} is added!')\n",
        "      return\n",
        "    print(f'Book {book.name} aldeady in Library!')\n",
        "\n",
        "  def add_user(self, user):\n",
        "    if user not in self.users:\n",
        "      self.users.append(user)\n",
        "      print(f'User {user.name} is added!')\n",
        "      return\n",
        "    print(f'User {user.name} already in Library!')\n",
        "\n",
        "  def remove_book(self, book):\n",
        "    if book in self.books:\n",
        "      self.books.remove(book)\n",
        "      print(f'Book {book.name} is delete!')\n",
        "      return\n",
        "    print(f'Book {book.name} is not in Library!')\n",
        "\n",
        "  def remove_user(self, user):\n",
        "    if user in self.users:\n",
        "      self.users.remove(user)\n",
        "      print(f'User {user.name} is delete')\n",
        "      return\n",
        "    print(f'User {user.name} is not in base')\n",
        "\n",
        "  def took(self, user, book):\n",
        "    if book in self.books:\n",
        "      if book.quantity > 0:\n",
        "        if book not in user.books_on_hands:\n",
        "          user.took(book)\n",
        "          book.took()\n",
        "          self.trans.append({\n",
        "              \"Status\" : \"Took\",\n",
        "              \"User\" : user.name,\n",
        "              \"Book\" : book.name\n",
        "          })\n",
        "\n",
        "  def returned(self, user, book):\n",
        "    if book in self.books:\n",
        "      if book in user.books_on_hands:\n",
        "        user.returned(book)\n",
        "        book.returned()\n",
        "        self.trans.append({\n",
        "            \"Status\" : \"Returned\",\n",
        "            \"User\" : user.name,\n",
        "            \"Book\" : book.name\n",
        "        })\n",
        "\n",
        "  def show_trans(self):\n",
        "    print('\\nTransactions:')\n",
        "    for it in self.trans:\n",
        "      print(f'{it[\"User\"]} {it[\"Status\"]} \"{it[\"Book\"]}\"')\n",
        "\n",
        "  def search_user(self, id):\n",
        "    for it in self.users:\n",
        "      if it.ticket_num == id:\n",
        "        print(f'It is {it.name} is {id} number')\n",
        "        return\n",
        "    print(f'No user with {id} number!')\n",
        "\n",
        "  def search_book(self, year):\n",
        "    flag = False\n",
        "    for it in  self.books:\n",
        "      if it.year == year:\n",
        "        print(f'It is \"{it.name}\" by {year} year')\n",
        "        flag = True\n",
        "    if not flag: print(f'No Book by {year} year!')"
      ],
      "metadata": {
        "id": "zRKx8hGdNvVw"
      },
      "execution_count": 24,
      "outputs": []
    },
    {
      "cell_type": "code",
      "source": [
        "lib = Library()\n",
        "\n",
        "book1 = Book(\"The Master and Margarita\", \"Mikhail Bulgakov\", 2011, \"978-5-699-45351-1\", 15)\n",
        "book2 = Book(\"War and Peace\", \"Lev Tolstoy\", 2014, \"978-5-4472-3750-9\", 7)\n",
        "user1 = User(\"Dima\", 1)\n",
        "user2 = User(\"Mihael\", 2)\n",
        "print()\n",
        "\n",
        "lib.add_book(book1)\n",
        "lib.add_book(book2)\n",
        "lib.add_user(user1)\n",
        "lib.add_user(user2)\n",
        "print()\n",
        "\n",
        "lib.took(user1, book1)\n",
        "lib.took(user2, book2)\n",
        "lib.returned(user1, book1)\n",
        "lib.show_trans()\n",
        "print()\n",
        "lib.search_book(2011)\n",
        "lib.search_user(1)"
      ],
      "metadata": {
        "colab": {
          "base_uri": "https://localhost:8080/"
        },
        "id": "qKwc-3AEUcTf",
        "outputId": "78739b94-c6f0-451e-966f-72bd8196de74"
      },
      "execution_count": 29,
      "outputs": [
        {
          "output_type": "stream",
          "name": "stdout",
          "text": [
            "Library is created!\n",
            "\n",
            "Book The Master and Margarita is added!\n",
            "Book War and Peace is added!\n",
            "User Dima is added!\n",
            "User Mihael is added!\n",
            "\n",
            "Dima took The Master and Margarita\n",
            "Mihael took War and Peace\n",
            "Dima returned The Master and Margarita\n",
            "\n",
            "Transactions:\n",
            "Dima Took \"The Master and Margarita\"\n",
            "Mihael Took \"War and Peace\"\n",
            "Dima Returned \"The Master and Margarita\"\n",
            "\n",
            "It is \"The Master and Margarita\" by 2011 year\n",
            "It is Dima is 1 number\n"
          ]
        }
      ]
    },
    {
      "cell_type": "markdown",
      "source": [
        "#Задача 5"
      ],
      "metadata": {
        "id": "r8OEFVsD4tGv"
      }
    },
    {
      "cell_type": "markdown",
      "source": [
        "Explain why list `b` changes after the execution of the following code:\n",
        "\n",
        "```python\n",
        "a = [1, 2, 3]\n",
        "b = a\n",
        "a[0] = 4\n",
        "print(b)\n",
        "```"
      ],
      "metadata": {
        "id": "aMtOAdAT4vLI"
      }
    },
    {
      "cell_type": "markdown",
      "source": [
        "Ответ: Когда мы пишем b = a то b и a это просто два имени одного и того же списка, переменные хранят в себе указатели на область памяти где лежит оригинал. Если мы хотим, чтобы список b не поменялся, то его стоило бы делать через b.copy(a)"
      ],
      "metadata": {
        "id": "NPkdbajT430l"
      }
    },
    {
      "cell_type": "markdown",
      "source": [
        "#Задача 6"
      ],
      "metadata": {
        "id": "7RMXsQX159bT"
      }
    },
    {
      "cell_type": "markdown",
      "source": [
        "Let\n",
        "$$A = \\sum_{i=1}^{10000} \\frac{1}{i^2},\\quad B=\\sum_{i=10000}^{1} \\frac{1}{i^2}.$$\n",
        "Calculate the values of $A$ and $B$ and compare them. What do you observe? Explain why this happens. What is the best way to calculate the value of $\\sum\\limits_{i=1}^{10000} \\dfrac{1}{i^2}$?"
      ],
      "metadata": {
        "id": "F-pQK0e16H2e"
      }
    },
    {
      "cell_type": "code",
      "source": [
        "A = 0\n",
        "B = 0\n",
        "for i in range(1, 10001): A += 1 / i**2\n",
        "for i in range(100000, 0, -1): B += 1 / i**2\n",
        "\n",
        "print(f'A = {A}')\n",
        "print(f'B = {B}')"
      ],
      "metadata": {
        "colab": {
          "base_uri": "https://localhost:8080/"
        },
        "id": "wubkV38W6RlZ",
        "outputId": "990a22bf-74ac-443f-f3de-85944eeb527f"
      },
      "execution_count": 72,
      "outputs": [
        {
          "output_type": "stream",
          "name": "stdout",
          "text": [
            "A = 1.6448340718480652\n",
            "B = 1.6449240668982263\n"
          ]
        }
      ]
    },
    {
      "cell_type": "markdown",
      "source": [
        "При больших i $$\\frac{1}{i^2}$$ становится меньше, при этом получается, что в случае А меньшие чила прибавляются к уже накопленной сумме, что приводит к ошибке в силу того что мы складываем числа с плавающей точкой. В случае В мы сначала складываем маленькие числа, тем самым суммирование от меньших числе к большим лучше"
      ],
      "metadata": {
        "id": "ATbJUCr28D-r"
      }
    }
  ]
}